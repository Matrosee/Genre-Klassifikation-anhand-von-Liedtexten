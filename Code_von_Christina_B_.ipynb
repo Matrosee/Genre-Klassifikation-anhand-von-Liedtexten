{
  "cells": [
    {
      "cell_type": "markdown",
      "metadata": {
        "id": "view-in-github",
        "colab_type": "text"
      },
      "source": [
        "<a href=\"https://colab.research.google.com/github/Matrosee/Genre-Klassifikation-anhand-von-Liedtexten/blob/main/Code_von_Christina_B_.ipynb\" target=\"_parent\"><img src=\"https://colab.research.google.com/assets/colab-badge.svg\" alt=\"Open In Colab\"/></a>"
      ]
    },
    {
      "cell_type": "markdown",
      "metadata": {
        "id": "BY_7eMGFh8MY"
      },
      "source": [
        "# **Import**"
      ]
    },
    {
      "cell_type": "code",
      "execution_count": null,
      "metadata": {
        "id": "dWuy0bHIgr2N"
      },
      "outputs": [],
      "source": [
        "import pandas as pd\n",
        "import re\n",
        "import nltk\n",
        "import spacy\n",
        "import numpy as np\n",
        "\n",
        "\n",
        "from nltk.corpus import stopwords\n",
        "\n",
        "\n",
        "from sklearn.ensemble import RandomForestClassifier\n",
        "\n",
        "from nltk import PorterStemmer\n",
        "from nltk.tokenize import word_tokenize\n",
        "\n",
        "from sklearn.feature_extraction.text import CountVectorizer\n",
        "from sklearn.feature_extraction.text import TfidfVectorizer\n",
        "from sklearn.model_selection import train_test_split\n",
        "from sklearn.metrics import accuracy_score\n",
        "from sklearn.model_selection import GridSearchCV\n",
        "\n",
        "\n",
        "\n",
        "from google.colab import drive"
      ]
    },
    {
      "cell_type": "markdown",
      "metadata": {
        "id": "X_Jziw0xh7D5"
      },
      "source": [
        "# **Upload**"
      ]
    },
    {
      "cell_type": "markdown",
      "source": [
        "Upload vom Datensatz"
      ],
      "metadata": {
        "id": "4_9j1-jypkNR"
      }
    },
    {
      "cell_type": "code",
      "execution_count": null,
      "metadata": {
        "id": "oXSq9qPrhZs_"
      },
      "outputs": [],
      "source": [
        "drive.mount('/content/gdrive')"
      ]
    },
    {
      "cell_type": "code",
      "execution_count": null,
      "metadata": {
        "id": "1Kc5rRrehmLH"
      },
      "outputs": [],
      "source": [
        "df = pd.read_csv('gdrive/MyDrive/train.csv')\n",
        "df_test = pd.read_csv('gdrive/MyDrive/test.csv')"
      ]
    },
    {
      "cell_type": "markdown",
      "metadata": {
        "id": "ks0nGR4vlDYv"
      },
      "source": [
        "# **PreProcessing**"
      ]
    },
    {
      "cell_type": "code",
      "execution_count": null,
      "metadata": {
        "id": "vG6KxRpuoOYO"
      },
      "outputs": [],
      "source": [
        "df = df.dropna(subset=['Lyrics'])"
      ]
    },
    {
      "cell_type": "code",
      "execution_count": null,
      "metadata": {
        "id": "CCsS_lgHoet2"
      },
      "outputs": [],
      "source": [
        "#vorbereiten der Daten\n",
        "text = df[\"Lyrics\"]\n",
        "labels = df[\"Genre\"]"
      ]
    },
    {
      "cell_type": "code",
      "execution_count": null,
      "metadata": {
        "id": "Ra2oIOe-lF8L"
      },
      "outputs": [],
      "source": [
        "#stopwords rausfiltern\n",
        "nltk.download('stopwords')\n",
        "stop_words = set(stopwords.words(\"english\"))"
      ]
    },
    {
      "cell_type": "code",
      "source": [
        "# Stop-Wörter auf einer Variable deklarieren\n",
        "en_stops = set(stopwords.words('english'))"
      ],
      "metadata": {
        "id": "sKM3a-hSP17D"
      },
      "execution_count": null,
      "outputs": []
    },
    {
      "cell_type": "code",
      "source": [
        "nltk.download('punkt')"
      ],
      "metadata": {
        "id": "QozKzbV3DyTW"
      },
      "execution_count": null,
      "outputs": []
    },
    {
      "cell_type": "code",
      "source": [
        "# Nur Englische-Lieder einstellen\n",
        "df = df.loc[df['Language']=='en']"
      ],
      "metadata": {
        "id": "hq-sU972xT1H"
      },
      "execution_count": null,
      "outputs": []
    },
    {
      "cell_type": "markdown",
      "source": [
        "Cleaned Text"
      ],
      "metadata": {
        "id": "ymDa3xUZDRYV"
      }
    },
    {
      "cell_type": "code",
      "source": [
        "# Sonderzeichen entfernen\n",
        "df['Lyrics'] = [re.sub(r'^.?Lyrics', '', str(lyric)) for lyric in df['Lyrics']]\n",
        "\n",
        "# Satzumbruch Zeichen entfernen\n",
        "df['cleaned_lyrics'] = [str(lyric).replace('\\n',' ') for lyric in df['Lyrics']]\n",
        "\n",
        "# Wörter in eckigen Klammern entfernen\n",
        "df['cleaned_lyrics'] = [re.sub(\"[.?]\",\"\",lyric) for lyric in df['cleaned_lyrics']]\n",
        "\n",
        "# Language-, Song-Name- und Artist-Spalte löschen\n",
        "df = df.drop('Language',axis=1)\n",
        "df = df.drop('Song', axis=1)\n",
        "df = df.drop('Artist', axis=1)\n",
        "\n",
        "# Den Index resetten\n",
        "df.reset_index(drop=True)"
      ],
      "metadata": {
        "id": "qsDdFdFcDQU9"
      },
      "execution_count": null,
      "outputs": []
    },
    {
      "cell_type": "markdown",
      "source": [
        "Stemmed Lyrics"
      ],
      "metadata": {
        "id": "TseYs_muDhbv"
      }
    },
    {
      "cell_type": "code",
      "source": [
        "# Neue Spalte erstellen und die Liedtexte ohne Endungen in die Spalte speichen\n",
        "df['stemmed_lyrics'] = \"\"\n",
        "ps = PorterStemmer() \n",
        "space = \" \"\n",
        "tmp = \"\"\n",
        "count = 0\n",
        "for lyric in df['cleaned_lyrics']:\n",
        "  words = word_tokenize(lyric)\n",
        "  tmp = \"\"\n",
        "  for word in words:\n",
        "    tmp = tmp + space + ps.stem(word)\n",
        "  df['stemmed_lyrics'].iloc[count] = tmp\n",
        "  count = count + 1"
      ],
      "metadata": {
        "id": "q1GwpmsoDe4r"
      },
      "execution_count": null,
      "outputs": []
    },
    {
      "cell_type": "markdown",
      "source": [
        "Lyrics ohne Stop-Words"
      ],
      "metadata": {
        "id": "3IP1qPwHS1D_"
      }
    },
    {
      "cell_type": "code",
      "source": [
        "# Neue Spalte erstellen und die Liedtexte ohne Stoppwörter in die Spalte speichen\n",
        "df['wosw_lyrics'] = \"\"\n",
        "space = \" \"\n",
        "tmp = \"\"\n",
        "count = 0\n",
        "for lyric in df['cleaned_lyrics']:\n",
        "  words = word_tokenize(lyric)\n",
        "  tmp = \"\"\n",
        "  for word in words:\n",
        "    if word not in en_stops:\n",
        "      tmp = tmp + space + word\n",
        "  df['wosw_lyrics'].iloc[count] = tmp\n",
        "  count = count + 1"
      ],
      "metadata": {
        "id": "-g7rrltNPqNE"
      },
      "execution_count": null,
      "outputs": []
    },
    {
      "cell_type": "markdown",
      "source": [
        "# **1890 Songs pro Genre**"
      ],
      "metadata": {
        "id": "MiCioezxpRRn"
      }
    },
    {
      "cell_type": "code",
      "source": [
        "df_lyrics = pd.DataFrame({'Lyrics': df['cleaned_lyrics'], 'Genre': labels})\n",
        "df_lyrics = df_lyrics.groupby('Genre').head(1890)"
      ],
      "metadata": {
        "id": "lXRGl5RHzyaR"
      },
      "execution_count": null,
      "outputs": []
    },
    {
      "cell_type": "code",
      "source": [
        "#1890 Songs pro Genre verwenden\n",
        "df_lyrics = pd.DataFrame({'Lyrics': df['cleaned_lyrics'], 'Genre': labels})\n",
        "df_pop = df[df['Genre']=='Pop']\n",
        "df_pop = df_pop.head(1890)\n",
        "\n",
        "df_metal = df[df['Genre']=='Metal']\n",
        "df_metal = df_metal.head(1890)\n",
        "\n",
        "df_rock = df[df['Genre']=='Rock']\n",
        "df_rock = df_rock.head(1890)\n",
        "\n",
        "df_hip_hop = df[df['Genre']=='Hip-Hop']\n",
        "df_hip_hop = df_hip_hop.head(1890)\n",
        "\n",
        "df_rnb = df[df['Genre']=='R&B']\n",
        "df_rnb = df_rnb.head(1890)\n",
        "\n",
        "df_indie = df[df['Genre']=='Indie']\n",
        "df_indie = df_indie.head(1890)\n",
        "\n",
        "df_electronic = df[df['Genre']=='Electronic']\n",
        "df_electronic = df_electronic.head(1890)\n",
        "\n",
        "df_jazz = df[df['Genre']=='Jazz']\n",
        "df_jazz = df_jazz.head(1890)\n",
        "\n",
        "df_folk = df[df['Genre']=='Folk']\n",
        "df_folk = df_folk.head(1890)\n",
        "\n",
        "df_country = df[df['Genre']=='Country']\n",
        "df_country = df_country.head(1890)\n",
        "\n",
        "df_lyrics = pd.concat([df_pop, df_hip_hop, df_metal, df_rock, df_indie, \n",
        "                df_country, df_electronic, df_rnb, df_jazz, df_folk])"
      ],
      "metadata": {
        "id": "cIKLMTn4pVom"
      },
      "execution_count": null,
      "outputs": []
    },
    {
      "cell_type": "markdown",
      "source": [
        "# **10.000 Songs pro Genre**"
      ],
      "metadata": {
        "id": "YplAPjm8_AgZ"
      }
    },
    {
      "cell_type": "code",
      "source": [
        "df_lyrics = pd.DataFrame({'Lyrics': df['cleaned_lyrics'], 'Genre': labels})\n",
        "df_lyrics = df_lyrics.groupby('Genre').head(10000)"
      ],
      "metadata": {
        "id": "X2xrtoHe_SaZ"
      },
      "execution_count": null,
      "outputs": []
    },
    {
      "cell_type": "code",
      "source": [
        "df_lyrics = pd.DataFrame({'Lyrics': df['cleaned_lyrics'], 'Genre': labels})\n",
        "df_rock = df[df['Genre']=='Rock']\n",
        "df_rock = df_rock.head(10000)\n",
        "\n",
        "df_pop = df[df['Genre']=='Pop']\n",
        "df_pop = df_pop.head(10000)\n",
        "\n",
        "df_metal = df[df['Genre']=='Metal']\n",
        "df_metal = df_metal.head(10000)\n",
        "\n",
        "df_hip_hop = df[df['Genre']=='Hip-Hop']\n",
        "df_hip_hop = df_hip_hop.head(10000)\n",
        "\n",
        "df_rnb = df[df['Genre']=='R&B']\n",
        "df_rnb = df_rnb.head(10000)\n",
        "\n",
        "df_indie = df[df['Genre']=='Indie']\n",
        "df_indie = df_indie.head(10000)\n",
        "\n",
        "df_electronic = df[df['Genre']=='Electronic']\n",
        "df_electronic = df_electronic.head(10000)\n",
        "\n",
        "df_jazz = df[df['Genre']=='Jazz']\n",
        "df_jazz = df_jazz.head(10000)\n",
        "\n",
        "df_folk = df[df['Genre']=='Folk']\n",
        "df_folk = df_folk.head(10000)\n",
        "\n",
        "df_country = df[df['Genre']=='Country']\n",
        "df_country = df_country.head(10000)"
      ],
      "metadata": {
        "id": "8k5p0Psy_O0N"
      },
      "execution_count": null,
      "outputs": []
    },
    {
      "cell_type": "markdown",
      "source": [
        "# **50.000 Songs pro Genre**"
      ],
      "metadata": {
        "id": "QsFpEPNuNfjt"
      }
    },
    {
      "cell_type": "code",
      "source": [
        "df_lyrics = pd.DataFrame({'Lyrics': ['cleaned_text'], 'Genre': labels})\n",
        "df_lyrics = df_lyrics.groupby('Genre').head(50000)"
      ],
      "metadata": {
        "id": "2WC4aQP5NjRQ"
      },
      "execution_count": null,
      "outputs": []
    },
    {
      "cell_type": "code",
      "source": [
        "df_lyrics = pd.DataFrame({'Lyrics': df['cleaned_lyrics'], 'Genre': labels})\n",
        "df_rock = df[df['Genre']=='Rock']\n",
        "df_rock = df_rock.head(50000)\n",
        "\n",
        "df_pop = df[df['Genre']=='Pop']\n",
        "df_pop = df_pop.head(50000)\n",
        "\n",
        "df_metal = df[df['Genre']=='Metal']\n",
        "df_metal = df_metal.head(50000)\n",
        "\n",
        "df_hip_hop = df[df['Genre']=='Hip-Hop']\n",
        "df_hip_hop = df_hip_hop.head(50000)\n",
        "\n",
        "df_rnb = df[df['Genre']=='R&B']\n",
        "df_rnb = df_rnb.head(50000)\n",
        "\n",
        "df_indie = df[df['Genre']=='Indie']\n",
        "df_indie = df_indie.head(50000)\n",
        "\n",
        "df_electronic = df[df['Genre']=='Electronic']\n",
        "df_electronic = df_electronic.head(50000)\n",
        "\n",
        "df_jazz = df[df['Genre']=='Jazz']\n",
        "df_jazz = df_jazz.head(50000)\n",
        "\n",
        "df_folk = df[df['Genre']=='Folk']\n",
        "df_folk = df_folk.head(50000)\n",
        "\n",
        "df_country = df[df['Genre']=='Country']\n",
        "df_country = df_country.head(50000)"
      ],
      "metadata": {
        "id": "li_GexxONl9R"
      },
      "execution_count": null,
      "outputs": []
    },
    {
      "cell_type": "code",
      "source": [
        "df = pd.concat([df_pop, df_hip_hop, df_metal, df_rock, df_indie, \n",
        "                df_country, df_electronic, df_rnb, df_jazz, df_folk])"
      ],
      "metadata": {
        "id": "MAElH7xcNuGl"
      },
      "execution_count": null,
      "outputs": []
    },
    {
      "cell_type": "markdown",
      "source": [
        "# **121.404 Songs pro Genre**"
      ],
      "metadata": {
        "id": "8bAXNTXV1cw1"
      }
    },
    {
      "cell_type": "code",
      "source": [
        "df_lyrics = pd.DataFrame({'Lyrics': ['cleaned_text'], 'Genre': labels})\n",
        "df_lyrics = df_lyrics.groupby('Genre').head(121404)"
      ],
      "metadata": {
        "id": "ZlmPDl8r1g-Y"
      },
      "execution_count": null,
      "outputs": []
    },
    {
      "cell_type": "code",
      "source": [
        "df_lyrics = pd.DataFrame({'Lyrics': df['cleaned_lyrics'], 'Genre': labels})\n",
        "df_rock = df[df['Genre']=='Rock']\n",
        "df_rock = df_rock.head(121404)\n",
        "\n",
        "df_pop = df[df['Genre']=='Pop']\n",
        "df_pop = df_pop.head(121404)\n",
        "\n",
        "df_metal = df[df['Genre']=='Metal']\n",
        "df_metal = df_metal.head(121404)\n",
        "\n",
        "df_hip_hop = df[df['Genre']=='Hip-Hop']\n",
        "df_hip_hop = df_hip_hop.head(121404)\n",
        "\n",
        "df_rnb = df[df['Genre']=='R&B']\n",
        "df_rnb = df_rnb.head(121404)\n",
        "\n",
        "df_indie = df[df['Genre']=='Indie']\n",
        "df_indie = df_indie.head(121404)\n",
        "\n",
        "df_electronic = df[df['Genre']=='Electronic']\n",
        "df_electronic = df_electronic.head(121404)\n",
        "\n",
        "df_jazz = df[df['Genre']=='Jazz']\n",
        "df_jazz = df_jazz.head(121404)\n",
        "\n",
        "df_folk = df[df['Genre']=='Folk']\n",
        "df_folk = df_folk.head(121404)\n",
        "\n",
        "df_country = df[df['Genre']=='Country']\n",
        "df_country = df_country.head(121404)"
      ],
      "metadata": {
        "id": "l2cOeMrc1kKG"
      },
      "execution_count": null,
      "outputs": []
    },
    {
      "cell_type": "code",
      "source": [
        "df = pd.concat([df_pop, df_hip_hop, df_metal, df_rock, df_indie, \n",
        "                df_country, df_electronic, df_rnb, df_jazz, df_folk])"
      ],
      "metadata": {
        "id": "okCUE9iY1z03"
      },
      "execution_count": null,
      "outputs": []
    },
    {
      "cell_type": "markdown",
      "metadata": {
        "id": "HEEh40OxiyoO"
      },
      "source": [
        "# **CountVectorizer**"
      ]
    },
    {
      "cell_type": "code",
      "source": [
        "# Erstellen leerer Listen für Texte und Labels\n",
        "texts = []\n",
        "labels = []\n",
        "\n",
        "genres = ['Pop', 'Hip-Hop', 'Metal', 'Rock', 'Indie', 'Country', 'Electronic', 'R&B', 'Jazz', 'Folk']"
      ],
      "metadata": {
        "id": "CyVNsfAf9_iB"
      },
      "execution_count": null,
      "outputs": []
    },
    {
      "cell_type": "code",
      "source": [
        "# Schleife durch jeden Genre\n",
        "for genre in genres:\n",
        "    # Auswahl von xx Songs pro Genre\n",
        "    df_genre = df[df['Genre'] == genre].head(1890)\n",
        "    # Extrahiert die Texte und Labels\n",
        "    texts.extend(df_genre[\"Lyrics\"])\n",
        "    labels.extend(df_genre[\"Genre\"])\n",
        "\n",
        "# Entfernen von Satzzeichen, Sonderzeichen und überflüssigen Wörtern\n",
        "cleaned_text = []\n",
        "for t in texts:\n",
        "    t = t.lower()\n",
        "    t = re.sub(r'[^\\w\\s]','',t)\n",
        "    t = \" \".join([word for word in t.split() if word not in stop_words])\n",
        "    cleaned_text.append(t)"
      ],
      "metadata": {
        "id": "WT5cPD0jtX95"
      },
      "execution_count": null,
      "outputs": []
    },
    {
      "cell_type": "code",
      "source": [
        "df_train_lyrics = df['Lyrics']\n",
        "df_train_labels = df['Genre']"
      ],
      "metadata": {
        "id": "fmkDeUWD0I6f"
      },
      "execution_count": null,
      "outputs": []
    },
    {
      "cell_type": "code",
      "source": [
        "df_test_lyrics = df_test['Lyrics']\n",
        "df_test_labels = df_test['Genre']"
      ],
      "metadata": {
        "id": "fK7KCN0W0u6d"
      },
      "execution_count": null,
      "outputs": []
    },
    {
      "cell_type": "code",
      "execution_count": null,
      "metadata": {
        "id": "47Nvknizi2wl"
      },
      "outputs": [],
      "source": [
        "vectorizer = CountVectorizer()\n",
        "\n",
        "X_train = vectorizer.fit_transform(df_train_lyrics)\n",
        "X_test = vectorizer.transform(df_test_lyrics)\n",
        "\n",
        "y_train = df_train_labels\n",
        "y_test = df_test_labels\n",
        "\n",
        "X_train = X_train.astype(np.float32)\n",
        "X_test = X_test.astype(np.float32)"
      ]
    },
    {
      "cell_type": "code",
      "source": [
        "clf = RandomForestClassifier(max_depth=None, n_estimators=200)\n",
        "clf.fit(X_train, y_train)"
      ],
      "metadata": {
        "id": "Ae01250A_9BK"
      },
      "execution_count": null,
      "outputs": []
    },
    {
      "cell_type": "code",
      "source": [
        "y_pred = clf.predict(X_test)"
      ],
      "metadata": {
        "id": "8uxkG9FPAITx"
      },
      "execution_count": null,
      "outputs": []
    },
    {
      "cell_type": "code",
      "source": [
        "accuracy = accuracy_score(y_test, y_pred)\n",
        "print(\"Accuracy: \", accuracy)"
      ],
      "metadata": {
        "id": "yBzpBAuUAI5p"
      },
      "execution_count": null,
      "outputs": []
    },
    {
      "cell_type": "markdown",
      "metadata": {
        "id": "gfzFIYqHqWQU"
      },
      "source": [
        "# **TFIDF**"
      ]
    },
    {
      "cell_type": "code",
      "source": [
        "texts = []\n",
        "labels = []\n",
        "\n",
        "genres = ['Pop', 'Hip-Hop', 'Metal', 'Rock', 'Indie', 'Country', 'Electronic', 'R&B', 'Jazz', 'Folk']"
      ],
      "metadata": {
        "id": "egk_K9O54CLs"
      },
      "execution_count": null,
      "outputs": []
    },
    {
      "cell_type": "code",
      "source": [
        "for genre in genres:\n",
        "  df_genre = df[df['Genre'] == genre].head(1890)\n",
        "  texts.extend(df_genre[\"Lyrics\"])\n",
        "  labels.extend(df_genre[\"Genre\"])\n",
        "\n",
        "cleaned_text = []\n",
        "for t in texts:\n",
        "  t = t.lower()\n",
        "  t = re.sub(r'[^\\w\\s]','',t)\n",
        "  t = \" \".join([word for word in t.split() if word not in stop_words])\n",
        "  cleaned_text.append(t)"
      ],
      "metadata": {
        "id": "q_KAPW0R4Flh"
      },
      "execution_count": null,
      "outputs": []
    },
    {
      "cell_type": "code",
      "source": [
        "df_train_lyrics = df['Lyrics']\n",
        "df_train_labels = df['Genre']"
      ],
      "metadata": {
        "id": "H9Deb2qP1D9J"
      },
      "execution_count": null,
      "outputs": []
    },
    {
      "cell_type": "code",
      "source": [
        "df_test_lyrics = df_test['Lyrics']\n",
        "df_test_labels = df_test['Genre']"
      ],
      "metadata": {
        "id": "rQHPpZ791Egr"
      },
      "execution_count": null,
      "outputs": []
    },
    {
      "cell_type": "code",
      "source": [
        "vectorizer = TfidfVectorizer()\n",
        "X_train = vectorizer.fit_transform(df_train_lyrics)\n",
        "X_test = vectorizer.transform(df_test_lyrics)\n",
        "\n",
        "y_train = df_train_labels\n",
        "y_test = df_test_labels\n",
        "\n",
        "X_train = X_train.astype(np.float32)\n",
        "X_test = X_test.astype(np.float32)"
      ],
      "metadata": {
        "id": "ICO8pl8i60Qq"
      },
      "execution_count": null,
      "outputs": []
    },
    {
      "cell_type": "code",
      "source": [
        "clf = RandomForestClassifier(max_depth=None, n_estimators=200)\n",
        "clf.fit(X_train, y_train)"
      ],
      "metadata": {
        "id": "2Xf9v4KB7AuV"
      },
      "execution_count": null,
      "outputs": []
    },
    {
      "cell_type": "code",
      "source": [
        "y_pred = clf.predict(X_test)"
      ],
      "metadata": {
        "id": "ADP28aG77hds"
      },
      "execution_count": null,
      "outputs": []
    },
    {
      "cell_type": "code",
      "source": [
        "accuracy = accuracy_score(y_test, y_pred)\n",
        "print(\"Accuracy: \", accuracy)"
      ],
      "metadata": {
        "id": "qoPLQitm7oej"
      },
      "execution_count": null,
      "outputs": []
    },
    {
      "cell_type": "markdown",
      "source": [
        "# **GridSearch**"
      ],
      "metadata": {
        "id": "dKqu7O4DFAl_"
      }
    },
    {
      "cell_type": "code",
      "source": [
        "param_grid = {'n_estimators': [50, 100, 200, 300], 'max_depth': [None, 5, 10]}"
      ],
      "metadata": {
        "id": "7bVQQcfOFWkT"
      },
      "execution_count": null,
      "outputs": []
    },
    {
      "cell_type": "code",
      "source": [
        "grid_search = GridSearchCV(RandomForestClassifier(), param_grid)"
      ],
      "metadata": {
        "id": "KEkQ1g-FFZ2Z"
      },
      "execution_count": null,
      "outputs": []
    },
    {
      "cell_type": "code",
      "source": [
        "grid_search.fit(X_train, y_train)"
      ],
      "metadata": {
        "id": "kqixU0_eF0aY"
      },
      "execution_count": null,
      "outputs": []
    },
    {
      "cell_type": "code",
      "source": [
        "best_score = grid_search.best_score_\n",
        "best_params = grid_search.best_params_"
      ],
      "metadata": {
        "id": "ZavcQ2iBI6dE"
      },
      "execution_count": null,
      "outputs": []
    },
    {
      "cell_type": "code",
      "source": [
        "best_model = grid_search.best_estimator_\n",
        "test_score = best_model.score(X_test, y_test)"
      ],
      "metadata": {
        "id": "HcOmYQ9GI7SC"
      },
      "execution_count": null,
      "outputs": []
    },
    {
      "cell_type": "code",
      "source": [
        "grid_search.best_params_"
      ],
      "metadata": {
        "id": "WbOXBssBPEpP"
      },
      "execution_count": null,
      "outputs": []
    },
    {
      "cell_type": "code",
      "source": [
        "grid_search.best_score_"
      ],
      "metadata": {
        "id": "iMIyfgjVPJyn"
      },
      "execution_count": null,
      "outputs": []
    },
    {
      "cell_type": "code",
      "source": [
        "best_clf = grid_search.best_estimator_"
      ],
      "metadata": {
        "id": "YmDce7DvPgrf"
      },
      "execution_count": null,
      "outputs": []
    },
    {
      "cell_type": "markdown",
      "source": [
        "# Spacy"
      ],
      "metadata": {
        "id": "pfLe31gsqAZg"
      }
    },
    {
      "cell_type": "code",
      "source": [
        "#Spacy laden\n",
        "nlp = spacy.load(\"en_core_web_md\")"
      ],
      "metadata": {
        "id": "GNwlFFrQqD9l"
      },
      "execution_count": null,
      "outputs": []
    },
    {
      "cell_type": "code",
      "source": [
        "text = cleaned_text"
      ],
      "metadata": {
        "id": "WbRUkbiWstzb"
      },
      "execution_count": null,
      "outputs": []
    },
    {
      "cell_type": "code",
      "source": [
        "df_lyrics = pd.DataFrame({'Lyrics': cleaned_text, 'Genre': labels})\n",
        "df_lyrics = df_lyrics.groupby('Genre').head(1890)"
      ],
      "metadata": {
        "id": "laYenR_Qu5jr"
      },
      "execution_count": null,
      "outputs": []
    },
    {
      "cell_type": "code",
      "source": [
        "vectors = []\n",
        "\n",
        "for t in text:\n",
        "  doc = nlp(t)\n",
        "  mean_vec = doc.vector\n",
        "  vectors.append(mean_vec)"
      ],
      "metadata": {
        "id": "TTlKzwOksw-o"
      },
      "execution_count": null,
      "outputs": []
    },
    {
      "cell_type": "code",
      "source": [
        "X_train, X_test, y_train, y_test = train_test_split(vectors, labels,\n",
        "                                                    test_size=0.2, random_state=42)"
      ],
      "metadata": {
        "id": "Lxrl0XUMs9j0"
      },
      "execution_count": null,
      "outputs": []
    },
    {
      "cell_type": "code",
      "source": [
        "clf = RandomForestClassifier(max_depth=None, n_estimators=200)\n",
        "clf.fit(X_train, y_train)"
      ],
      "metadata": {
        "id": "5Vtt0xLwuJrz"
      },
      "execution_count": null,
      "outputs": []
    },
    {
      "cell_type": "code",
      "source": [
        "accuracy = clf.score(X_test, y_test)\n",
        "print(\"Accuracy: \", accuracy)"
      ],
      "metadata": {
        "id": "w7Z6Pdo2uVJs"
      },
      "execution_count": null,
      "outputs": []
    }
  ],
  "metadata": {
    "colab": {
      "provenance": [],
      "collapsed_sections": [
        "BY_7eMGFh8MY",
        "X_Jziw0xh7D5",
        "ks0nGR4vlDYv",
        "MiCioezxpRRn"
      ],
      "include_colab_link": true
    },
    "kernelspec": {
      "display_name": "Python 3",
      "name": "python3"
    },
    "language_info": {
      "name": "python"
    }
  },
  "nbformat": 4,
  "nbformat_minor": 0
}